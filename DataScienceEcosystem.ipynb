{
 "cells": [
  {
   "cell_type": "markdown",
   "id": "45f88ed1-7275-414d-8dcd-5735812e9ce7",
   "metadata": {
    "tags": []
   },
   "source": [
    "<h1> Data Science Tools and Ecosystem</h1>"
   ]
  },
  {
   "cell_type": "markdown",
   "id": "5f44b42c-380b-4a3d-8adc-dbdbeb0c56e3",
   "metadata": {},
   "source": [
    " In this notebook, Data Science Tools and Ecosystem are summarized."
   ]
  },
  {
   "cell_type": "markdown",
   "id": "10039c8c-ccb2-4f1d-ae83-0345ce3d9a40",
   "metadata": {},
   "source": [
    "<b>Objectives:</b>\n",
    "<ul>\n",
    "    <li>List popular languages for Data Science</li>\n",
    "    <li>Commonly used libraries in Data Science</li>\n",
    "    <li>popular tools for Data Science</li>\n",
    "    <li>importance of data visualization</li>\n",
    "    <li>basics of Jupyter notebook</li>"
   ]
  },
  {
   "cell_type": "markdown",
   "id": "dde0f647-8810-4a9d-af71-cc2a12851bfd",
   "metadata": {
    "tags": []
   },
   "source": [
    "Some of the popular languages that Data Scientists use are:\n",
    "<ol>\n",
    "    <li> python </li>\n",
    "    <li> R </li>\n",
    "    <li> SQL </li>\n",
    "</ol>"
   ]
  },
  {
   "cell_type": "markdown",
   "id": "28082545-071a-4191-bca9-53b4e68b1712",
   "metadata": {},
   "source": [
    "Some of the commonly used libraries used by Data Scientists include:\n",
    "    <ol>\n",
    "    <li> Scientific computing </li>\n",
    "    <li> Machine learning </li>\n",
    "    <li> Visualization </li>\n",
    "</ol>"
   ]
  },
  {
   "cell_type": "markdown",
   "id": "5adb1d93-2503-47af-ac10-fd3971cca3e0",
   "metadata": {
    "tags": []
   },
   "source": [
    "<headder> Data Science Tools. </headder>\n",
    "<li>Jupyter Notebook</li>\n",
    "<li>R studio </li>\n",
    "<li>Spyder</li>"
   ]
  },
  {
   "cell_type": "markdown",
   "id": "94faf1fb-884c-43b0-8c9c-e4aa739f71e6",
   "metadata": {},
   "source": [
    "<h3>Below are a few examples of evaluating arithmetic expressions in Python</h3>"
   ]
  },
  {
   "cell_type": "markdown",
   "id": "d44acd66-a7c8-4394-82a2-705c78c4b9f6",
   "metadata": {},
   "source": [
    "This a simple arithmetic expression to mutiply then add integers"
   ]
  },
  {
   "cell_type": "code",
   "execution_count": 11,
   "id": "cc87aa44-bb4b-4d55-bf5b-c035ce2918bd",
   "metadata": {
    "tags": []
   },
   "outputs": [
    {
     "data": {
      "text/plain": [
       "17"
      ]
     },
     "execution_count": 11,
     "metadata": {},
     "output_type": "execute_result"
    }
   ],
   "source": [
    "(3*4)+5"
   ]
  },
  {
   "cell_type": "markdown",
   "id": "41944983-9b9d-4d49-ac99-a212f58784c4",
   "metadata": {},
   "source": [
    "This will convert 200 minutes to hours by diving by 60"
   ]
  },
  {
   "cell_type": "code",
   "execution_count": 12,
   "id": "79a2a405-5122-463c-bb1d-341185ed520f",
   "metadata": {
    "tags": []
   },
   "outputs": [
    {
     "name": "stdout",
     "output_type": "stream",
     "text": [
      "3.3333333333333335 hours\n"
     ]
    }
   ],
   "source": [
    "print(f\"{200/60} hours\")"
   ]
  },
  {
   "cell_type": "markdown",
   "id": "38b7477f-f995-448f-804f-1ffd993ad515",
   "metadata": {
    "tags": []
   },
   "source": [
    "<h2>Author</h2>\n",
    "Nemaleshwar H"
   ]
  }
 ],
 "metadata": {
  "kernelspec": {
   "display_name": "Python",
   "language": "python",
   "name": "conda-env-python-py"
  },
  "language_info": {
   "codemirror_mode": {
    "name": "ipython",
    "version": 3
   },
   "file_extension": ".py",
   "mimetype": "text/x-python",
   "name": "python",
   "nbconvert_exporter": "python",
   "pygments_lexer": "ipython3",
   "version": "3.7.12"
  }
 },
 "nbformat": 4,
 "nbformat_minor": 5
}
